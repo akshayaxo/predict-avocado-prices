{
 "cells": [
  {
   "cell_type": "code",
   "execution_count": 1,
   "metadata": {},
   "outputs": [],
   "source": [
    "import findspark\n",
    "findspark.init()\n",
    "findspark.find()\n",
    "import pyspark\n",
    "findspark.find()\n",
    "from pyspark import SparkContext, SparkConf\n",
    "from pyspark.sql import SparkSession"
   ]
  },
  {
   "cell_type": "code",
   "execution_count": 2,
   "metadata": {},
   "outputs": [],
   "source": [
    "conf = pyspark.SparkConf().setAppName('appName').setMaster('local')\n",
    "sc = pyspark.SparkContext(conf=conf)\n",
    "spark = SparkSession(sc)"
   ]
  },
  {
   "cell_type": "code",
   "execution_count": 3,
   "metadata": {},
   "outputs": [],
   "source": [
    "import sys\n",
    "import pandas as pd\n",
    "import matplotlib\n",
    "import numpy as np\n",
    "import scipy as sp\n",
    "import IPython\n",
    "from IPython import display # pretty printing of dataframe in Jupyter notebook"
   ]
  },
  {
   "cell_type": "code",
   "execution_count": 4,
   "metadata": {},
   "outputs": [
    {
     "ename": "Py4JJavaError",
     "evalue": "An error occurred while calling z:org.apache.spark.api.python.PythonRDD.runJob.\n: org.apache.spark.SparkException: Job aborted due to stage failure: Task 0 in stage 0.0 failed 1 times, most recent failure: Lost task 0.0 in stage 0.0 (TID 0) (LAPTOP-SUEL2B7F executor driver): java.net.SocketException: Connection reset by peer: socket write error\r\n\tat java.net.SocketOutputStream.socketWrite0(Native Method)\r\n\tat java.net.SocketOutputStream.socketWrite(SocketOutputStream.java:111)\r\n\tat java.net.SocketOutputStream.write(SocketOutputStream.java:155)\r\n\tat java.io.BufferedOutputStream.flushBuffer(BufferedOutputStream.java:82)\r\n\tat java.io.BufferedOutputStream.write(BufferedOutputStream.java:126)\r\n\tat java.io.DataOutputStream.write(DataOutputStream.java:107)\r\n\tat java.io.FilterOutputStream.write(FilterOutputStream.java:97)\r\n\tat org.apache.spark.api.python.PythonRDD$.writeUTF(PythonRDD.scala:477)\r\n\tat org.apache.spark.api.python.PythonRDD$.write$1(PythonRDD.scala:297)\r\n\tat org.apache.spark.api.python.PythonRDD$.$anonfun$writeIteratorToStream$1(PythonRDD.scala:307)\r\n\tat org.apache.spark.api.python.PythonRDD$.$anonfun$writeIteratorToStream$1$adapted(PythonRDD.scala:307)\r\n\tat scala.collection.Iterator.foreach(Iterator.scala:941)\r\n\tat scala.collection.Iterator.foreach$(Iterator.scala:941)\r\n\tat scala.collection.AbstractIterator.foreach(Iterator.scala:1429)\r\n\tat org.apache.spark.api.python.PythonRDD$.writeIteratorToStream(PythonRDD.scala:307)\r\n\tat org.apache.spark.api.python.PythonRunner$$anon$2.writeIteratorToStream(PythonRunner.scala:621)\r\n\tat org.apache.spark.api.python.BasePythonRunner$WriterThread.$anonfun$run$1(PythonRunner.scala:397)\r\n\tat org.apache.spark.util.Utils$.logUncaughtExceptions(Utils.scala:1996)\r\n\tat org.apache.spark.api.python.BasePythonRunner$WriterThread.run(PythonRunner.scala:232)\r\n\nDriver stacktrace:\r\n\tat org.apache.spark.scheduler.DAGScheduler.failJobAndIndependentStages(DAGScheduler.scala:2258)\r\n\tat org.apache.spark.scheduler.DAGScheduler.$anonfun$abortStage$2(DAGScheduler.scala:2207)\r\n\tat org.apache.spark.scheduler.DAGScheduler.$anonfun$abortStage$2$adapted(DAGScheduler.scala:2206)\r\n\tat scala.collection.mutable.ResizableArray.foreach(ResizableArray.scala:62)\r\n\tat scala.collection.mutable.ResizableArray.foreach$(ResizableArray.scala:55)\r\n\tat scala.collection.mutable.ArrayBuffer.foreach(ArrayBuffer.scala:49)\r\n\tat org.apache.spark.scheduler.DAGScheduler.abortStage(DAGScheduler.scala:2206)\r\n\tat org.apache.spark.scheduler.DAGScheduler.$anonfun$handleTaskSetFailed$1(DAGScheduler.scala:1079)\r\n\tat org.apache.spark.scheduler.DAGScheduler.$anonfun$handleTaskSetFailed$1$adapted(DAGScheduler.scala:1079)\r\n\tat scala.Option.foreach(Option.scala:407)\r\n\tat org.apache.spark.scheduler.DAGScheduler.handleTaskSetFailed(DAGScheduler.scala:1079)\r\n\tat org.apache.spark.scheduler.DAGSchedulerEventProcessLoop.doOnReceive(DAGScheduler.scala:2445)\r\n\tat org.apache.spark.scheduler.DAGSchedulerEventProcessLoop.onReceive(DAGScheduler.scala:2387)\r\n\tat org.apache.spark.scheduler.DAGSchedulerEventProcessLoop.onReceive(DAGScheduler.scala:2376)\r\n\tat org.apache.spark.util.EventLoop$$anon$1.run(EventLoop.scala:49)\r\n\tat org.apache.spark.scheduler.DAGScheduler.runJob(DAGScheduler.scala:868)\r\n\tat org.apache.spark.SparkContext.runJob(SparkContext.scala:2196)\r\n\tat org.apache.spark.SparkContext.runJob(SparkContext.scala:2217)\r\n\tat org.apache.spark.SparkContext.runJob(SparkContext.scala:2236)\r\n\tat org.apache.spark.api.python.PythonRDD$.runJob(PythonRDD.scala:166)\r\n\tat org.apache.spark.api.python.PythonRDD.runJob(PythonRDD.scala)\r\n\tat sun.reflect.NativeMethodAccessorImpl.invoke0(Native Method)\r\n\tat sun.reflect.NativeMethodAccessorImpl.invoke(NativeMethodAccessorImpl.java:62)\r\n\tat sun.reflect.DelegatingMethodAccessorImpl.invoke(DelegatingMethodAccessorImpl.java:43)\r\n\tat java.lang.reflect.Method.invoke(Method.java:498)\r\n\tat py4j.reflection.MethodInvoker.invoke(MethodInvoker.java:244)\r\n\tat py4j.reflection.ReflectionEngine.invoke(ReflectionEngine.java:357)\r\n\tat py4j.Gateway.invoke(Gateway.java:282)\r\n\tat py4j.commands.AbstractCommand.invokeMethod(AbstractCommand.java:132)\r\n\tat py4j.commands.CallCommand.execute(CallCommand.java:79)\r\n\tat py4j.GatewayConnection.run(GatewayConnection.java:238)\r\n\tat java.lang.Thread.run(Thread.java:748)\r\nCaused by: java.net.SocketException: Connection reset by peer: socket write error\r\n\tat java.net.SocketOutputStream.socketWrite0(Native Method)\r\n\tat java.net.SocketOutputStream.socketWrite(SocketOutputStream.java:111)\r\n\tat java.net.SocketOutputStream.write(SocketOutputStream.java:155)\r\n\tat java.io.BufferedOutputStream.flushBuffer(BufferedOutputStream.java:82)\r\n\tat java.io.BufferedOutputStream.write(BufferedOutputStream.java:126)\r\n\tat java.io.DataOutputStream.write(DataOutputStream.java:107)\r\n\tat java.io.FilterOutputStream.write(FilterOutputStream.java:97)\r\n\tat org.apache.spark.api.python.PythonRDD$.writeUTF(PythonRDD.scala:477)\r\n\tat org.apache.spark.api.python.PythonRDD$.write$1(PythonRDD.scala:297)\r\n\tat org.apache.spark.api.python.PythonRDD$.$anonfun$writeIteratorToStream$1(PythonRDD.scala:307)\r\n\tat org.apache.spark.api.python.PythonRDD$.$anonfun$writeIteratorToStream$1$adapted(PythonRDD.scala:307)\r\n\tat scala.collection.Iterator.foreach(Iterator.scala:941)\r\n\tat scala.collection.Iterator.foreach$(Iterator.scala:941)\r\n\tat scala.collection.AbstractIterator.foreach(Iterator.scala:1429)\r\n\tat org.apache.spark.api.python.PythonRDD$.writeIteratorToStream(PythonRDD.scala:307)\r\n\tat org.apache.spark.api.python.PythonRunner$$anon$2.writeIteratorToStream(PythonRunner.scala:621)\r\n\tat org.apache.spark.api.python.BasePythonRunner$WriterThread.$anonfun$run$1(PythonRunner.scala:397)\r\n\tat org.apache.spark.util.Utils$.logUncaughtExceptions(Utils.scala:1996)\r\n\tat org.apache.spark.api.python.BasePythonRunner$WriterThread.run(PythonRunner.scala:232)\r\n",
     "output_type": "error",
     "traceback": [
      "\u001b[1;31m---------------------------------------------------------------------------\u001b[0m",
      "\u001b[1;31mPy4JJavaError\u001b[0m                             Traceback (most recent call last)",
      "\u001b[1;32m<ipython-input-4-d3657e58f641>\u001b[0m in \u001b[0;36m<module>\u001b[1;34m\u001b[0m\n\u001b[0;32m      1\u001b[0m \u001b[0mrdd\u001b[0m \u001b[1;33m=\u001b[0m \u001b[0msc\u001b[0m\u001b[1;33m.\u001b[0m\u001b[0mtextFile\u001b[0m\u001b[1;33m(\u001b[0m\u001b[1;34m\"avocado.csv\"\u001b[0m\u001b[1;33m)\u001b[0m\u001b[1;33m\u001b[0m\u001b[1;33m\u001b[0m\u001b[0m\n\u001b[1;32m----> 2\u001b[1;33m \u001b[0mrdd\u001b[0m\u001b[1;33m.\u001b[0m\u001b[0mfirst\u001b[0m\u001b[1;33m(\u001b[0m\u001b[1;33m)\u001b[0m\u001b[1;33m\u001b[0m\u001b[1;33m\u001b[0m\u001b[0m\n\u001b[0m",
      "\u001b[1;32mC:\\Spark\\spark-3.1.2-bin-hadoop2.7\\python\\pyspark\\rdd.py\u001b[0m in \u001b[0;36mfirst\u001b[1;34m(self)\u001b[0m\n\u001b[0;32m   1584\u001b[0m         \u001b[0mValueError\u001b[0m\u001b[1;33m:\u001b[0m \u001b[0mRDD\u001b[0m \u001b[1;32mis\u001b[0m \u001b[0mempty\u001b[0m\u001b[1;33m\u001b[0m\u001b[1;33m\u001b[0m\u001b[0m\n\u001b[0;32m   1585\u001b[0m         \"\"\"\n\u001b[1;32m-> 1586\u001b[1;33m         \u001b[0mrs\u001b[0m \u001b[1;33m=\u001b[0m \u001b[0mself\u001b[0m\u001b[1;33m.\u001b[0m\u001b[0mtake\u001b[0m\u001b[1;33m(\u001b[0m\u001b[1;36m1\u001b[0m\u001b[1;33m)\u001b[0m\u001b[1;33m\u001b[0m\u001b[1;33m\u001b[0m\u001b[0m\n\u001b[0m\u001b[0;32m   1587\u001b[0m         \u001b[1;32mif\u001b[0m \u001b[0mrs\u001b[0m\u001b[1;33m:\u001b[0m\u001b[1;33m\u001b[0m\u001b[1;33m\u001b[0m\u001b[0m\n\u001b[0;32m   1588\u001b[0m             \u001b[1;32mreturn\u001b[0m \u001b[0mrs\u001b[0m\u001b[1;33m[\u001b[0m\u001b[1;36m0\u001b[0m\u001b[1;33m]\u001b[0m\u001b[1;33m\u001b[0m\u001b[1;33m\u001b[0m\u001b[0m\n",
      "\u001b[1;32mC:\\Spark\\spark-3.1.2-bin-hadoop2.7\\python\\pyspark\\rdd.py\u001b[0m in \u001b[0;36mtake\u001b[1;34m(self, num)\u001b[0m\n\u001b[0;32m   1564\u001b[0m \u001b[1;33m\u001b[0m\u001b[0m\n\u001b[0;32m   1565\u001b[0m             \u001b[0mp\u001b[0m \u001b[1;33m=\u001b[0m \u001b[0mrange\u001b[0m\u001b[1;33m(\u001b[0m\u001b[0mpartsScanned\u001b[0m\u001b[1;33m,\u001b[0m \u001b[0mmin\u001b[0m\u001b[1;33m(\u001b[0m\u001b[0mpartsScanned\u001b[0m \u001b[1;33m+\u001b[0m \u001b[0mnumPartsToTry\u001b[0m\u001b[1;33m,\u001b[0m \u001b[0mtotalParts\u001b[0m\u001b[1;33m)\u001b[0m\u001b[1;33m)\u001b[0m\u001b[1;33m\u001b[0m\u001b[1;33m\u001b[0m\u001b[0m\n\u001b[1;32m-> 1566\u001b[1;33m             \u001b[0mres\u001b[0m \u001b[1;33m=\u001b[0m \u001b[0mself\u001b[0m\u001b[1;33m.\u001b[0m\u001b[0mcontext\u001b[0m\u001b[1;33m.\u001b[0m\u001b[0mrunJob\u001b[0m\u001b[1;33m(\u001b[0m\u001b[0mself\u001b[0m\u001b[1;33m,\u001b[0m \u001b[0mtakeUpToNumLeft\u001b[0m\u001b[1;33m,\u001b[0m \u001b[0mp\u001b[0m\u001b[1;33m)\u001b[0m\u001b[1;33m\u001b[0m\u001b[1;33m\u001b[0m\u001b[0m\n\u001b[0m\u001b[0;32m   1567\u001b[0m \u001b[1;33m\u001b[0m\u001b[0m\n\u001b[0;32m   1568\u001b[0m             \u001b[0mitems\u001b[0m \u001b[1;33m+=\u001b[0m \u001b[0mres\u001b[0m\u001b[1;33m\u001b[0m\u001b[1;33m\u001b[0m\u001b[0m\n",
      "\u001b[1;32mC:\\Spark\\spark-3.1.2-bin-hadoop2.7\\python\\pyspark\\context.py\u001b[0m in \u001b[0;36mrunJob\u001b[1;34m(self, rdd, partitionFunc, partitions, allowLocal)\u001b[0m\n\u001b[0;32m   1231\u001b[0m         \u001b[1;31m# SparkContext#runJob.\u001b[0m\u001b[1;33m\u001b[0m\u001b[1;33m\u001b[0m\u001b[1;33m\u001b[0m\u001b[0m\n\u001b[0;32m   1232\u001b[0m         \u001b[0mmappedRDD\u001b[0m \u001b[1;33m=\u001b[0m \u001b[0mrdd\u001b[0m\u001b[1;33m.\u001b[0m\u001b[0mmapPartitions\u001b[0m\u001b[1;33m(\u001b[0m\u001b[0mpartitionFunc\u001b[0m\u001b[1;33m)\u001b[0m\u001b[1;33m\u001b[0m\u001b[1;33m\u001b[0m\u001b[0m\n\u001b[1;32m-> 1233\u001b[1;33m         \u001b[0msock_info\u001b[0m \u001b[1;33m=\u001b[0m \u001b[0mself\u001b[0m\u001b[1;33m.\u001b[0m\u001b[0m_jvm\u001b[0m\u001b[1;33m.\u001b[0m\u001b[0mPythonRDD\u001b[0m\u001b[1;33m.\u001b[0m\u001b[0mrunJob\u001b[0m\u001b[1;33m(\u001b[0m\u001b[0mself\u001b[0m\u001b[1;33m.\u001b[0m\u001b[0m_jsc\u001b[0m\u001b[1;33m.\u001b[0m\u001b[0msc\u001b[0m\u001b[1;33m(\u001b[0m\u001b[1;33m)\u001b[0m\u001b[1;33m,\u001b[0m \u001b[0mmappedRDD\u001b[0m\u001b[1;33m.\u001b[0m\u001b[0m_jrdd\u001b[0m\u001b[1;33m,\u001b[0m \u001b[0mpartitions\u001b[0m\u001b[1;33m)\u001b[0m\u001b[1;33m\u001b[0m\u001b[1;33m\u001b[0m\u001b[0m\n\u001b[0m\u001b[0;32m   1234\u001b[0m         \u001b[1;32mreturn\u001b[0m \u001b[0mlist\u001b[0m\u001b[1;33m(\u001b[0m\u001b[0m_load_from_socket\u001b[0m\u001b[1;33m(\u001b[0m\u001b[0msock_info\u001b[0m\u001b[1;33m,\u001b[0m \u001b[0mmappedRDD\u001b[0m\u001b[1;33m.\u001b[0m\u001b[0m_jrdd_deserializer\u001b[0m\u001b[1;33m)\u001b[0m\u001b[1;33m)\u001b[0m\u001b[1;33m\u001b[0m\u001b[1;33m\u001b[0m\u001b[0m\n\u001b[0;32m   1235\u001b[0m \u001b[1;33m\u001b[0m\u001b[0m\n",
      "\u001b[1;32mC:\\Spark\\spark-3.1.2-bin-hadoop2.7\\python\\lib\\py4j-0.10.9-src.zip\\py4j\\java_gateway.py\u001b[0m in \u001b[0;36m__call__\u001b[1;34m(self, *args)\u001b[0m\n\u001b[0;32m   1302\u001b[0m \u001b[1;33m\u001b[0m\u001b[0m\n\u001b[0;32m   1303\u001b[0m         \u001b[0manswer\u001b[0m \u001b[1;33m=\u001b[0m \u001b[0mself\u001b[0m\u001b[1;33m.\u001b[0m\u001b[0mgateway_client\u001b[0m\u001b[1;33m.\u001b[0m\u001b[0msend_command\u001b[0m\u001b[1;33m(\u001b[0m\u001b[0mcommand\u001b[0m\u001b[1;33m)\u001b[0m\u001b[1;33m\u001b[0m\u001b[1;33m\u001b[0m\u001b[0m\n\u001b[1;32m-> 1304\u001b[1;33m         return_value = get_return_value(\n\u001b[0m\u001b[0;32m   1305\u001b[0m             answer, self.gateway_client, self.target_id, self.name)\n\u001b[0;32m   1306\u001b[0m \u001b[1;33m\u001b[0m\u001b[0m\n",
      "\u001b[1;32mC:\\Spark\\spark-3.1.2-bin-hadoop2.7\\python\\pyspark\\sql\\utils.py\u001b[0m in \u001b[0;36mdeco\u001b[1;34m(*a, **kw)\u001b[0m\n\u001b[0;32m    109\u001b[0m     \u001b[1;32mdef\u001b[0m \u001b[0mdeco\u001b[0m\u001b[1;33m(\u001b[0m\u001b[1;33m*\u001b[0m\u001b[0ma\u001b[0m\u001b[1;33m,\u001b[0m \u001b[1;33m**\u001b[0m\u001b[0mkw\u001b[0m\u001b[1;33m)\u001b[0m\u001b[1;33m:\u001b[0m\u001b[1;33m\u001b[0m\u001b[1;33m\u001b[0m\u001b[0m\n\u001b[0;32m    110\u001b[0m         \u001b[1;32mtry\u001b[0m\u001b[1;33m:\u001b[0m\u001b[1;33m\u001b[0m\u001b[1;33m\u001b[0m\u001b[0m\n\u001b[1;32m--> 111\u001b[1;33m             \u001b[1;32mreturn\u001b[0m \u001b[0mf\u001b[0m\u001b[1;33m(\u001b[0m\u001b[1;33m*\u001b[0m\u001b[0ma\u001b[0m\u001b[1;33m,\u001b[0m \u001b[1;33m**\u001b[0m\u001b[0mkw\u001b[0m\u001b[1;33m)\u001b[0m\u001b[1;33m\u001b[0m\u001b[1;33m\u001b[0m\u001b[0m\n\u001b[0m\u001b[0;32m    112\u001b[0m         \u001b[1;32mexcept\u001b[0m \u001b[0mpy4j\u001b[0m\u001b[1;33m.\u001b[0m\u001b[0mprotocol\u001b[0m\u001b[1;33m.\u001b[0m\u001b[0mPy4JJavaError\u001b[0m \u001b[1;32mas\u001b[0m \u001b[0me\u001b[0m\u001b[1;33m:\u001b[0m\u001b[1;33m\u001b[0m\u001b[1;33m\u001b[0m\u001b[0m\n\u001b[0;32m    113\u001b[0m             \u001b[0mconverted\u001b[0m \u001b[1;33m=\u001b[0m \u001b[0mconvert_exception\u001b[0m\u001b[1;33m(\u001b[0m\u001b[0me\u001b[0m\u001b[1;33m.\u001b[0m\u001b[0mjava_exception\u001b[0m\u001b[1;33m)\u001b[0m\u001b[1;33m\u001b[0m\u001b[1;33m\u001b[0m\u001b[0m\n",
      "\u001b[1;32mC:\\Spark\\spark-3.1.2-bin-hadoop2.7\\python\\lib\\py4j-0.10.9-src.zip\\py4j\\protocol.py\u001b[0m in \u001b[0;36mget_return_value\u001b[1;34m(answer, gateway_client, target_id, name)\u001b[0m\n\u001b[0;32m    324\u001b[0m             \u001b[0mvalue\u001b[0m \u001b[1;33m=\u001b[0m \u001b[0mOUTPUT_CONVERTER\u001b[0m\u001b[1;33m[\u001b[0m\u001b[0mtype\u001b[0m\u001b[1;33m]\u001b[0m\u001b[1;33m(\u001b[0m\u001b[0manswer\u001b[0m\u001b[1;33m[\u001b[0m\u001b[1;36m2\u001b[0m\u001b[1;33m:\u001b[0m\u001b[1;33m]\u001b[0m\u001b[1;33m,\u001b[0m \u001b[0mgateway_client\u001b[0m\u001b[1;33m)\u001b[0m\u001b[1;33m\u001b[0m\u001b[1;33m\u001b[0m\u001b[0m\n\u001b[0;32m    325\u001b[0m             \u001b[1;32mif\u001b[0m \u001b[0manswer\u001b[0m\u001b[1;33m[\u001b[0m\u001b[1;36m1\u001b[0m\u001b[1;33m]\u001b[0m \u001b[1;33m==\u001b[0m \u001b[0mREFERENCE_TYPE\u001b[0m\u001b[1;33m:\u001b[0m\u001b[1;33m\u001b[0m\u001b[1;33m\u001b[0m\u001b[0m\n\u001b[1;32m--> 326\u001b[1;33m                 raise Py4JJavaError(\n\u001b[0m\u001b[0;32m    327\u001b[0m                     \u001b[1;34m\"An error occurred while calling {0}{1}{2}.\\n\"\u001b[0m\u001b[1;33m.\u001b[0m\u001b[1;33m\u001b[0m\u001b[1;33m\u001b[0m\u001b[0m\n\u001b[0;32m    328\u001b[0m                     format(target_id, \".\", name), value)\n",
      "\u001b[1;31mPy4JJavaError\u001b[0m: An error occurred while calling z:org.apache.spark.api.python.PythonRDD.runJob.\n: org.apache.spark.SparkException: Job aborted due to stage failure: Task 0 in stage 0.0 failed 1 times, most recent failure: Lost task 0.0 in stage 0.0 (TID 0) (LAPTOP-SUEL2B7F executor driver): java.net.SocketException: Connection reset by peer: socket write error\r\n\tat java.net.SocketOutputStream.socketWrite0(Native Method)\r\n\tat java.net.SocketOutputStream.socketWrite(SocketOutputStream.java:111)\r\n\tat java.net.SocketOutputStream.write(SocketOutputStream.java:155)\r\n\tat java.io.BufferedOutputStream.flushBuffer(BufferedOutputStream.java:82)\r\n\tat java.io.BufferedOutputStream.write(BufferedOutputStream.java:126)\r\n\tat java.io.DataOutputStream.write(DataOutputStream.java:107)\r\n\tat java.io.FilterOutputStream.write(FilterOutputStream.java:97)\r\n\tat org.apache.spark.api.python.PythonRDD$.writeUTF(PythonRDD.scala:477)\r\n\tat org.apache.spark.api.python.PythonRDD$.write$1(PythonRDD.scala:297)\r\n\tat org.apache.spark.api.python.PythonRDD$.$anonfun$writeIteratorToStream$1(PythonRDD.scala:307)\r\n\tat org.apache.spark.api.python.PythonRDD$.$anonfun$writeIteratorToStream$1$adapted(PythonRDD.scala:307)\r\n\tat scala.collection.Iterator.foreach(Iterator.scala:941)\r\n\tat scala.collection.Iterator.foreach$(Iterator.scala:941)\r\n\tat scala.collection.AbstractIterator.foreach(Iterator.scala:1429)\r\n\tat org.apache.spark.api.python.PythonRDD$.writeIteratorToStream(PythonRDD.scala:307)\r\n\tat org.apache.spark.api.python.PythonRunner$$anon$2.writeIteratorToStream(PythonRunner.scala:621)\r\n\tat org.apache.spark.api.python.BasePythonRunner$WriterThread.$anonfun$run$1(PythonRunner.scala:397)\r\n\tat org.apache.spark.util.Utils$.logUncaughtExceptions(Utils.scala:1996)\r\n\tat org.apache.spark.api.python.BasePythonRunner$WriterThread.run(PythonRunner.scala:232)\r\n\nDriver stacktrace:\r\n\tat org.apache.spark.scheduler.DAGScheduler.failJobAndIndependentStages(DAGScheduler.scala:2258)\r\n\tat org.apache.spark.scheduler.DAGScheduler.$anonfun$abortStage$2(DAGScheduler.scala:2207)\r\n\tat org.apache.spark.scheduler.DAGScheduler.$anonfun$abortStage$2$adapted(DAGScheduler.scala:2206)\r\n\tat scala.collection.mutable.ResizableArray.foreach(ResizableArray.scala:62)\r\n\tat scala.collection.mutable.ResizableArray.foreach$(ResizableArray.scala:55)\r\n\tat scala.collection.mutable.ArrayBuffer.foreach(ArrayBuffer.scala:49)\r\n\tat org.apache.spark.scheduler.DAGScheduler.abortStage(DAGScheduler.scala:2206)\r\n\tat org.apache.spark.scheduler.DAGScheduler.$anonfun$handleTaskSetFailed$1(DAGScheduler.scala:1079)\r\n\tat org.apache.spark.scheduler.DAGScheduler.$anonfun$handleTaskSetFailed$1$adapted(DAGScheduler.scala:1079)\r\n\tat scala.Option.foreach(Option.scala:407)\r\n\tat org.apache.spark.scheduler.DAGScheduler.handleTaskSetFailed(DAGScheduler.scala:1079)\r\n\tat org.apache.spark.scheduler.DAGSchedulerEventProcessLoop.doOnReceive(DAGScheduler.scala:2445)\r\n\tat org.apache.spark.scheduler.DAGSchedulerEventProcessLoop.onReceive(DAGScheduler.scala:2387)\r\n\tat org.apache.spark.scheduler.DAGSchedulerEventProcessLoop.onReceive(DAGScheduler.scala:2376)\r\n\tat org.apache.spark.util.EventLoop$$anon$1.run(EventLoop.scala:49)\r\n\tat org.apache.spark.scheduler.DAGScheduler.runJob(DAGScheduler.scala:868)\r\n\tat org.apache.spark.SparkContext.runJob(SparkContext.scala:2196)\r\n\tat org.apache.spark.SparkContext.runJob(SparkContext.scala:2217)\r\n\tat org.apache.spark.SparkContext.runJob(SparkContext.scala:2236)\r\n\tat org.apache.spark.api.python.PythonRDD$.runJob(PythonRDD.scala:166)\r\n\tat org.apache.spark.api.python.PythonRDD.runJob(PythonRDD.scala)\r\n\tat sun.reflect.NativeMethodAccessorImpl.invoke0(Native Method)\r\n\tat sun.reflect.NativeMethodAccessorImpl.invoke(NativeMethodAccessorImpl.java:62)\r\n\tat sun.reflect.DelegatingMethodAccessorImpl.invoke(DelegatingMethodAccessorImpl.java:43)\r\n\tat java.lang.reflect.Method.invoke(Method.java:498)\r\n\tat py4j.reflection.MethodInvoker.invoke(MethodInvoker.java:244)\r\n\tat py4j.reflection.ReflectionEngine.invoke(ReflectionEngine.java:357)\r\n\tat py4j.Gateway.invoke(Gateway.java:282)\r\n\tat py4j.commands.AbstractCommand.invokeMethod(AbstractCommand.java:132)\r\n\tat py4j.commands.CallCommand.execute(CallCommand.java:79)\r\n\tat py4j.GatewayConnection.run(GatewayConnection.java:238)\r\n\tat java.lang.Thread.run(Thread.java:748)\r\nCaused by: java.net.SocketException: Connection reset by peer: socket write error\r\n\tat java.net.SocketOutputStream.socketWrite0(Native Method)\r\n\tat java.net.SocketOutputStream.socketWrite(SocketOutputStream.java:111)\r\n\tat java.net.SocketOutputStream.write(SocketOutputStream.java:155)\r\n\tat java.io.BufferedOutputStream.flushBuffer(BufferedOutputStream.java:82)\r\n\tat java.io.BufferedOutputStream.write(BufferedOutputStream.java:126)\r\n\tat java.io.DataOutputStream.write(DataOutputStream.java:107)\r\n\tat java.io.FilterOutputStream.write(FilterOutputStream.java:97)\r\n\tat org.apache.spark.api.python.PythonRDD$.writeUTF(PythonRDD.scala:477)\r\n\tat org.apache.spark.api.python.PythonRDD$.write$1(PythonRDD.scala:297)\r\n\tat org.apache.spark.api.python.PythonRDD$.$anonfun$writeIteratorToStream$1(PythonRDD.scala:307)\r\n\tat org.apache.spark.api.python.PythonRDD$.$anonfun$writeIteratorToStream$1$adapted(PythonRDD.scala:307)\r\n\tat scala.collection.Iterator.foreach(Iterator.scala:941)\r\n\tat scala.collection.Iterator.foreach$(Iterator.scala:941)\r\n\tat scala.collection.AbstractIterator.foreach(Iterator.scala:1429)\r\n\tat org.apache.spark.api.python.PythonRDD$.writeIteratorToStream(PythonRDD.scala:307)\r\n\tat org.apache.spark.api.python.PythonRunner$$anon$2.writeIteratorToStream(PythonRunner.scala:621)\r\n\tat org.apache.spark.api.python.BasePythonRunner$WriterThread.$anonfun$run$1(PythonRunner.scala:397)\r\n\tat org.apache.spark.util.Utils$.logUncaughtExceptions(Utils.scala:1996)\r\n\tat org.apache.spark.api.python.BasePythonRunner$WriterThread.run(PythonRunner.scala:232)\r\n"
     ]
    }
   ],
   "source": [
    "rdd = sc.textFile(\"avocado.csv\")\n",
    "rdd.first()"
   ]
  },
  {
   "cell_type": "code",
   "execution_count": null,
   "metadata": {},
   "outputs": [],
   "source": [
    "rdd_top = rdd.first()\n",
    "rdd2 = rdd.filter(lambda line:line!=rdd_top)\n",
    "rdd2.first()"
   ]
  },
  {
   "cell_type": "code",
   "execution_count": null,
   "metadata": {},
   "outputs": [],
   "source": [
    "rdd2.map(lambda line:line.split(',')).take(1)"
   ]
  },
  {
   "cell_type": "code",
   "execution_count": 5,
   "metadata": {},
   "outputs": [],
   "source": [
    "df = spark.read.csv(\"avocado.csv\", inferSchema=\"true\", header=\"true\")"
   ]
  },
  {
   "cell_type": "code",
   "execution_count": 6,
   "metadata": {},
   "outputs": [
    {
     "data": {
      "text/plain": [
       "DataFrame[Date: string, AveragePrice: double, Total Volume: double, 4046: double, 4225: double, 4770: double, Total Bags: double, Small Bags: double, Large Bags: double, XLarge Bags: double, type: string, year: int, region: string]"
      ]
     },
     "execution_count": 6,
     "metadata": {},
     "output_type": "execute_result"
    }
   ],
   "source": [
    "df.drop('Unnamed: 0')"
   ]
  },
  {
   "cell_type": "code",
   "execution_count": 7,
   "metadata": {},
   "outputs": [
    {
     "data": {
      "text/plain": [
       "18249"
      ]
     },
     "execution_count": 7,
     "metadata": {},
     "output_type": "execute_result"
    }
   ],
   "source": [
    "df.count()"
   ]
  },
  {
   "cell_type": "code",
   "execution_count": 8,
   "metadata": {},
   "outputs": [
    {
     "data": {
      "text/plain": [
       "[Row(Date='27-12-2015', AveragePrice=1.33, Total Volume=64236.62, 4046=1036.74, 4225=54454.85, 4770=48.16, Total Bags=8696.87, Small Bags=8603.62, Large Bags=93.25, XLarge Bags=0.0, type='conventional', year=2015, region='Albany')]"
      ]
     },
     "execution_count": 8,
     "metadata": {},
     "output_type": "execute_result"
    }
   ],
   "source": [
    "df.take(1)"
   ]
  },
  {
   "cell_type": "code",
   "execution_count": 9,
   "metadata": {},
   "outputs": [
    {
     "name": "stdout",
     "output_type": "stream",
     "text": [
      "+----------+------------+------------+-------+--------+-----+----------+----------+----------+-----------+------------+----+------+\n",
      "|      Date|AveragePrice|Total Volume|   4046|    4225| 4770|Total Bags|Small Bags|Large Bags|XLarge Bags|        type|year|region|\n",
      "+----------+------------+------------+-------+--------+-----+----------+----------+----------+-----------+------------+----+------+\n",
      "|27-12-2015|        1.33|    64236.62|1036.74|54454.85|48.16|   8696.87|   8603.62|     93.25|        0.0|conventional|2015|Albany|\n",
      "|20-12-2015|        1.35|    54876.98| 674.28|44638.81|58.33|   9505.56|   9408.07|     97.49|        0.0|conventional|2015|Albany|\n",
      "+----------+------------+------------+-------+--------+-----+----------+----------+----------+-----------+------------+----+------+\n",
      "only showing top 2 rows\n",
      "\n"
     ]
    }
   ],
   "source": [
    "df.show(2)"
   ]
  },
  {
   "cell_type": "code",
   "execution_count": 10,
   "metadata": {},
   "outputs": [
    {
     "name": "stdout",
     "output_type": "stream",
     "text": [
      "root\n",
      " |-- Date: string (nullable = true)\n",
      " |-- AveragePrice: double (nullable = true)\n",
      " |-- Total Volume: double (nullable = true)\n",
      " |-- 4046: double (nullable = true)\n",
      " |-- 4225: double (nullable = true)\n",
      " |-- 4770: double (nullable = true)\n",
      " |-- Total Bags: double (nullable = true)\n",
      " |-- Small Bags: double (nullable = true)\n",
      " |-- Large Bags: double (nullable = true)\n",
      " |-- XLarge Bags: double (nullable = true)\n",
      " |-- type: string (nullable = true)\n",
      " |-- year: integer (nullable = true)\n",
      " |-- region: string (nullable = true)\n",
      "\n"
     ]
    }
   ],
   "source": [
    "#Schema of the dataset\n",
    "df.printSchema()"
   ]
  },
  {
   "cell_type": "code",
   "execution_count": 11,
   "metadata": {},
   "outputs": [
    {
     "data": {
      "text/plain": [
       "[Row(Date='27-12-2015', AveragePrice=1.33, Total Volume=64236.62, 4046=1036.74, 4225=54454.85, 4770=48.16, Total Bags=8696.87, Small Bags=8603.62, Large Bags=93.25, XLarge Bags=0.0, type='conventional', year=2015, region='Albany'),\n",
       " Row(Date='20-12-2015', AveragePrice=1.35, Total Volume=54876.98, 4046=674.28, 4225=44638.81, 4770=58.33, Total Bags=9505.56, Small Bags=9408.07, Large Bags=97.49, XLarge Bags=0.0, type='conventional', year=2015, region='Albany'),\n",
       " Row(Date='13-12-2015', AveragePrice=0.93, Total Volume=118220.22, 4046=794.7, 4225=109149.67, 4770=130.5, Total Bags=8145.35, Small Bags=8042.21, Large Bags=103.14, XLarge Bags=0.0, type='conventional', year=2015, region='Albany'),\n",
       " Row(Date='06-12-2015', AveragePrice=1.08, Total Volume=78992.15, 4046=1132.0, 4225=71976.41, 4770=72.58, Total Bags=5811.16, Small Bags=5677.4, Large Bags=133.76, XLarge Bags=0.0, type='conventional', year=2015, region='Albany'),\n",
       " Row(Date='29-11-2015', AveragePrice=1.28, Total Volume=51039.6, 4046=941.48, 4225=43838.39, 4770=75.78, Total Bags=6183.95, Small Bags=5986.26, Large Bags=197.69, XLarge Bags=0.0, type='conventional', year=2015, region='Albany')]"
      ]
     },
     "execution_count": 11,
     "metadata": {},
     "output_type": "execute_result"
    }
   ],
   "source": [
    "df.head(5)"
   ]
  },
  {
   "cell_type": "code",
   "execution_count": 12,
   "metadata": {},
   "outputs": [
    {
     "data": {
      "text/plain": [
       "18249"
      ]
     },
     "execution_count": 12,
     "metadata": {},
     "output_type": "execute_result"
    }
   ],
   "source": [
    "df.dropDuplicates()\n",
    "df.count()"
   ]
  },
  {
   "cell_type": "code",
   "execution_count": 13,
   "metadata": {},
   "outputs": [
    {
     "name": "stdout",
     "output_type": "stream",
     "text": [
      "+-------+----------+\n",
      "|summary|      Date|\n",
      "+-------+----------+\n",
      "|  count|     18249|\n",
      "|   mean|      null|\n",
      "| stddev|      null|\n",
      "|    min|01-01-2017|\n",
      "|    max|31-12-2017|\n",
      "+-------+----------+\n",
      "\n"
     ]
    }
   ],
   "source": [
    "df.describe('Date').show()"
   ]
  },
  {
   "cell_type": "code",
   "execution_count": 14,
   "metadata": {},
   "outputs": [
    {
     "name": "stdout",
     "output_type": "stream",
     "text": [
      "+-------+------------------+\n",
      "|summary|      AveragePrice|\n",
      "+-------+------------------+\n",
      "|  count|             18249|\n",
      "|   mean|1.4059784097758825|\n",
      "| stddev|0.4026765554955525|\n",
      "|    min|              0.44|\n",
      "|    max|              3.25|\n",
      "+-------+------------------+\n",
      "\n"
     ]
    }
   ],
   "source": [
    "df.describe('AveragePrice').show()"
   ]
  },
  {
   "cell_type": "code",
   "execution_count": 15,
   "metadata": {},
   "outputs": [
    {
     "name": "stdout",
     "output_type": "stream",
     "text": [
      "+-------+------------------+\n",
      "|summary|      Total Volume|\n",
      "+-------+------------------+\n",
      "|  count|             18249|\n",
      "|   mean| 850644.0130089332|\n",
      "| stddev|3453545.3553994684|\n",
      "|    min|             84.56|\n",
      "|    max|     6.250564652E7|\n",
      "+-------+------------------+\n",
      "\n"
     ]
    }
   ],
   "source": [
    "df.describe('Total Volume').show()"
   ]
  },
  {
   "cell_type": "code",
   "execution_count": 16,
   "metadata": {},
   "outputs": [
    {
     "name": "stdout",
     "output_type": "stream",
     "text": [
      "+-------+------------------+\n",
      "|summary|              4046|\n",
      "+-------+------------------+\n",
      "|  count|             18249|\n",
      "|   mean|293008.42453066056|\n",
      "| stddev|1264989.0817627835|\n",
      "|    min|               0.0|\n",
      "|    max|     2.274361617E7|\n",
      "+-------+------------------+\n",
      "\n"
     ]
    }
   ],
   "source": [
    "df.describe('4046').show()"
   ]
  },
  {
   "cell_type": "code",
   "execution_count": 17,
   "metadata": {},
   "outputs": [
    {
     "name": "stdout",
     "output_type": "stream",
     "text": [
      "+-------+------------------+\n",
      "|summary|              4225|\n",
      "+-------+------------------+\n",
      "|  count|             18249|\n",
      "|   mean|295154.56835607596|\n",
      "| stddev|1204120.4011350533|\n",
      "|    min|               0.0|\n",
      "|    max|     2.047057261E7|\n",
      "+-------+------------------+\n",
      "\n"
     ]
    }
   ],
   "source": [
    "df.describe('4225').show()"
   ]
  },
  {
   "cell_type": "code",
   "execution_count": 18,
   "metadata": {},
   "outputs": [
    {
     "name": "stdout",
     "output_type": "stream",
     "text": [
      "+-------+------------------+\n",
      "|summary|              4770|\n",
      "+-------+------------------+\n",
      "|  count|             18249|\n",
      "|   mean|22839.735992657315|\n",
      "| stddev|107464.06843537069|\n",
      "|    min|               0.0|\n",
      "|    max|        2546439.11|\n",
      "+-------+------------------+\n",
      "\n"
     ]
    }
   ],
   "source": [
    "df.describe('4770').show()"
   ]
  },
  {
   "cell_type": "code",
   "execution_count": 19,
   "metadata": {},
   "outputs": [
    {
     "name": "stdout",
     "output_type": "stream",
     "text": [
      "+-------+------------------+\n",
      "|summary|        Total Bags|\n",
      "+-------+------------------+\n",
      "|  count|             18249|\n",
      "|   mean|239639.20205983953|\n",
      "| stddev| 986242.3992164108|\n",
      "|    min|               0.0|\n",
      "|    max|     1.937313437E7|\n",
      "+-------+------------------+\n",
      "\n"
     ]
    }
   ],
   "source": [
    "df.describe('Total Bags').show()"
   ]
  },
  {
   "cell_type": "code",
   "execution_count": 20,
   "metadata": {},
   "outputs": [
    {
     "name": "stdout",
     "output_type": "stream",
     "text": [
      "+-------+------------------+\n",
      "|summary|        Small Bags|\n",
      "+-------+------------------+\n",
      "|  count|             18249|\n",
      "|   mean|182194.68669571026|\n",
      "| stddev| 746178.5149617895|\n",
      "|    min|               0.0|\n",
      "|    max|      1.33845868E7|\n",
      "+-------+------------------+\n",
      "\n"
     ]
    }
   ],
   "source": [
    "df.describe('Small Bags').show()"
   ]
  },
  {
   "cell_type": "code",
   "execution_count": 21,
   "metadata": {},
   "outputs": [
    {
     "name": "stdout",
     "output_type": "stream",
     "text": [
      "+-------+------------------+\n",
      "|summary|        Large Bags|\n",
      "+-------+------------------+\n",
      "|  count|             18249|\n",
      "|   mean| 54338.08814455636|\n",
      "| stddev|243965.96454740898|\n",
      "|    min|               0.0|\n",
      "|    max|        5719096.61|\n",
      "+-------+------------------+\n",
      "\n"
     ]
    }
   ],
   "source": [
    "df.describe('Large Bags').show()"
   ]
  },
  {
   "cell_type": "code",
   "execution_count": 22,
   "metadata": {},
   "outputs": [
    {
     "name": "stdout",
     "output_type": "stream",
     "text": [
      "+-------+------------------+\n",
      "|summary|       XLarge Bags|\n",
      "+-------+------------------+\n",
      "|  count|             18249|\n",
      "|   mean|3106.4265072058793|\n",
      "| stddev| 17692.89465191642|\n",
      "|    min|               0.0|\n",
      "|    max|         551693.65|\n",
      "+-------+------------------+\n",
      "\n"
     ]
    }
   ],
   "source": [
    "df.describe('XLarge Bags').show()"
   ]
  },
  {
   "cell_type": "code",
   "execution_count": 23,
   "metadata": {},
   "outputs": [
    {
     "name": "stdout",
     "output_type": "stream",
     "text": [
      "+-------+------------+\n",
      "|summary|        type|\n",
      "+-------+------------+\n",
      "|  count|       18249|\n",
      "|   mean|        null|\n",
      "| stddev|        null|\n",
      "|    min|conventional|\n",
      "|    max|     organic|\n",
      "+-------+------------+\n",
      "\n"
     ]
    }
   ],
   "source": [
    "df.describe('type').show()"
   ]
  },
  {
   "cell_type": "code",
   "execution_count": 24,
   "metadata": {},
   "outputs": [
    {
     "name": "stdout",
     "output_type": "stream",
     "text": [
      "+-------+------------------+\n",
      "|summary|              year|\n",
      "+-------+------------------+\n",
      "|  count|             18249|\n",
      "|   mean|2016.1478985149872|\n",
      "| stddev|0.9399384671420276|\n",
      "|    min|              2015|\n",
      "|    max|              2018|\n",
      "+-------+------------------+\n",
      "\n"
     ]
    }
   ],
   "source": [
    "df.describe('year').show()"
   ]
  },
  {
   "cell_type": "code",
   "execution_count": 25,
   "metadata": {},
   "outputs": [
    {
     "name": "stdout",
     "output_type": "stream",
     "text": [
      "+-------+----------------+\n",
      "|summary|          region|\n",
      "+-------+----------------+\n",
      "|  count|           18249|\n",
      "|   mean|            null|\n",
      "| stddev|            null|\n",
      "|    min|          Albany|\n",
      "|    max|WestTexNewMexico|\n",
      "+-------+----------------+\n",
      "\n"
     ]
    }
   ],
   "source": [
    "df.describe('region').show()"
   ]
  },
  {
   "cell_type": "code",
   "execution_count": 26,
   "metadata": {},
   "outputs": [
    {
     "data": {
      "text/plain": [
       "Date            0\n",
       "AveragePrice    0\n",
       "Total Volume    0\n",
       "4046            0\n",
       "4225            0\n",
       "4770            0\n",
       "Total Bags      0\n",
       "Small Bags      0\n",
       "Large Bags      0\n",
       "XLarge Bags     0\n",
       "type            0\n",
       "year            0\n",
       "region          0\n",
       "dtype: int64"
      ]
     },
     "execution_count": 26,
     "metadata": {},
     "output_type": "execute_result"
    }
   ],
   "source": [
    "#Checking any empty values present or not\n",
    "df.toPandas().isin([' ']).sum()"
   ]
  },
  {
   "cell_type": "code",
   "execution_count": 27,
   "metadata": {},
   "outputs": [
    {
     "data": {
      "text/plain": [
       "Date            0\n",
       "AveragePrice    0\n",
       "Total Volume    0\n",
       "4046            0\n",
       "4225            0\n",
       "4770            0\n",
       "Total Bags      0\n",
       "Small Bags      0\n",
       "Large Bags      0\n",
       "XLarge Bags     0\n",
       "type            0\n",
       "year            0\n",
       "region          0\n",
       "dtype: int64"
      ]
     },
     "execution_count": 27,
     "metadata": {},
     "output_type": "execute_result"
    }
   ],
   "source": [
    "#Detecting any missing values\n",
    "df.toPandas().isna().sum()"
   ]
  },
  {
   "cell_type": "code",
   "execution_count": 28,
   "metadata": {},
   "outputs": [
    {
     "data": {
      "text/plain": [
       "Date            0\n",
       "AveragePrice    0\n",
       "Total Volume    0\n",
       "4046            0\n",
       "4225            0\n",
       "4770            0\n",
       "Total Bags      0\n",
       "Small Bags      0\n",
       "Large Bags      0\n",
       "XLarge Bags     0\n",
       "type            0\n",
       "year            0\n",
       "region          0\n",
       "dtype: int64"
      ]
     },
     "execution_count": 28,
     "metadata": {},
     "output_type": "execute_result"
    }
   ],
   "source": [
    "#Checking for null values\n",
    "df.toPandas().isnull().sum()"
   ]
  },
  {
   "cell_type": "code",
   "execution_count": 29,
   "metadata": {},
   "outputs": [
    {
     "data": {
      "image/png": "[encoded data removed]",
      "text/plain": [
       "<Figure size 1080x1080 with 1 Axes>"
      ]
     },
     "metadata": {
      "needs_background": "light"
     },
     "output_type": "display_data"
    }
   ],
   "source": [
    "import matplotlib.pyplot as plt\n",
    "import seaborn as sns\n",
    "\n",
    "#Avgerage Price of Avocado by Region\n",
    "plt.figure(figsize=(15,15))\n",
    "plt.title(\"Avgerage Price of Avocado by Region\")\n",
    "sns.barplot(x=\"AveragePrice\",y=\"region\",data= df.toPandas())\n",
    "plt.show()"
   ]
  },
  {
   "cell_type": "code",
   "execution_count": 30,
   "metadata": {},
   "outputs": [
    {
     "data": {
      "text/plain": [
       "(array([ 331., 2632., 4824., 4506., 3412., 1672.,  598.,  177.,   86.,\n",
       "          11.]),\n",
       " array([0.44 , 0.721, 1.002, 1.283, 1.564, 1.845, 2.126, 2.407, 2.688,\n",
       "        2.969, 3.25 ]),\n",
       " <BarContainer object of 10 artists>)"
      ]
     },
     "execution_count": 30,
     "metadata": {},
     "output_type": "execute_result"
    },
    {
     "data": {
      "image/png": "[encoded data removed]",
      "text/plain": [
       "<Figure size 432x288 with 1 Axes>"
      ]
     },
     "metadata": {
      "needs_background": "light"
     },
     "output_type": "display_data"
    }
   ],
   "source": [
    "plt.hist(df.toPandas()['AveragePrice'],facecolor='violet',edgecolor='black',bins=10)"
   ]
  },
  {
   "cell_type": "code",
   "execution_count": 31,
   "metadata": {},
   "outputs": [
    {
     "data": {
      "image/png": "[encoded data removed]",
      "text/plain": [
       "<Figure size 360x504 with 1 Axes>"
      ]
     },
     "metadata": {
      "needs_background": "light"
     },
     "output_type": "display_data"
    }
   ],
   "source": [
    "#Average price of avocados by type\n",
    "plt.figure(figsize=(5,7))\n",
    "plt.title(\"Avg.Price of Avocados by Type\")\n",
    "sns.barplot(x=\"type\",y=\"AveragePrice\",data= df.toPandas())\n",
    "plt.show()"
   ]
  },
  {
   "cell_type": "code",
   "execution_count": 32,
   "metadata": {},
   "outputs": [
    {
     "data": {
      "text/plain": [
       "(array([5615.,    0.,    0., 5616.,    0.,    0., 5722.,    0.,    0.,\n",
       "        1296.]),\n",
       " array([2015. , 2015.3, 2015.6, 2015.9, 2016.2, 2016.5, 2016.8, 2017.1,\n",
       "        2017.4, 2017.7, 2018. ]),\n",
       " <BarContainer object of 10 artists>)"
      ]
     },
     "execution_count": 32,
     "metadata": {},
     "output_type": "execute_result"
    },
    {
     "data": {
      "image/png": "[encoded data removed]",
      "text/plain": [
       "<Figure size 432x288 with 1 Axes>"
      ]
     },
     "metadata": {
      "needs_background": "light"
     },
     "output_type": "display_data"
    }
   ],
   "source": [
    "plt.hist(df.toPandas()['year'])"
   ]
  },
  {
   "cell_type": "code",
   "execution_count": 33,
   "metadata": {},
   "outputs": [
    {
     "data": {
      "text/plain": [
       "<AxesSubplot:>"
      ]
     },
     "execution_count": 33,
     "metadata": {},
     "output_type": "execute_result"
    },
    {
     "data": {
      "image/png": "[encoded data removed]",
      "text/plain": [
       "<Figure size 864x432 with 2 Axes>"
      ]
     },
     "metadata": {
      "needs_background": "light"
     },
     "output_type": "display_data"
    }
   ],
   "source": [
    "#Corelation maps\n",
    "plt.figure(figsize=(12,6))\n",
    "sns.heatmap(df.toPandas().corr(),cmap='coolwarm',annot=True)"
   ]
  },
  {
   "cell_type": "code",
   "execution_count": 34,
   "metadata": {},
   "outputs": [],
   "source": [
    "#Performing one hot encoding for the columns type and region\n",
    "from pyspark.ml import Pipeline\n",
    "from pyspark.ml.feature import StringIndexer\n",
    "from pyspark.ml.feature import OneHotEncoder\n",
    "\n",
    "type_indexer = StringIndexer(inputCol=\"type\", outputCol=\"typeIndex\")\n",
    "region_indexer = StringIndexer(inputCol=\"region\", outputCol=\"regionIndex\")\n",
    "onehotencoder_type_vector = OneHotEncoder(inputCol=\"typeIndex\", outputCol=\"type_vec\")\n",
    "onehotencoder_region_vector = OneHotEncoder(inputCol=\"regionIndex\", outputCol=\"region_vec\")\n",
    "#Create pipeline and pass all stages\n",
    "pipeline = Pipeline(stages=[type_indexer,\n",
    "                            region_indexer,\n",
    "                            onehotencoder_type_vector,\n",
    "                            onehotencoder_region_vector\n",
    "                    ])"
   ]
  },
  {
   "cell_type": "code",
   "execution_count": 35,
   "metadata": {},
   "outputs": [
    {
     "name": "stdout",
     "output_type": "stream",
     "text": [
      "+----------+------------+------------+-------+---------+------+----------+----------+----------+-----------+------------+----+------+---------+-----------+-------------+--------------+\n",
      "|      Date|AveragePrice|Total Volume|   4046|     4225|  4770|Total Bags|Small Bags|Large Bags|XLarge Bags|        type|year|region|typeIndex|regionIndex|     type_vec|    region_vec|\n",
      "+----------+------------+------------+-------+---------+------+----------+----------+----------+-----------+------------+----+------+---------+-----------+-------------+--------------+\n",
      "|27-12-2015|        1.33|    64236.62|1036.74| 54454.85| 48.16|   8696.87|   8603.62|     93.25|        0.0|conventional|2015|Albany|      0.0|        0.0|(1,[0],[1.0])|(53,[0],[1.0])|\n",
      "|20-12-2015|        1.35|    54876.98| 674.28| 44638.81| 58.33|   9505.56|   9408.07|     97.49|        0.0|conventional|2015|Albany|      0.0|        0.0|(1,[0],[1.0])|(53,[0],[1.0])|\n",
      "|13-12-2015|        0.93|   118220.22|  794.7|109149.67| 130.5|   8145.35|   8042.21|    103.14|        0.0|conventional|2015|Albany|      0.0|        0.0|(1,[0],[1.0])|(53,[0],[1.0])|\n",
      "|06-12-2015|        1.08|    78992.15| 1132.0| 71976.41| 72.58|   5811.16|    5677.4|    133.76|        0.0|conventional|2015|Albany|      0.0|        0.0|(1,[0],[1.0])|(53,[0],[1.0])|\n",
      "|29-11-2015|        1.28|     51039.6| 941.48| 43838.39| 75.78|   6183.95|   5986.26|    197.69|        0.0|conventional|2015|Albany|      0.0|        0.0|(1,[0],[1.0])|(53,[0],[1.0])|\n",
      "|22-11-2015|        1.26|    55979.78|1184.27| 48067.99| 43.61|   6683.91|   6556.47|    127.44|        0.0|conventional|2015|Albany|      0.0|        0.0|(1,[0],[1.0])|(53,[0],[1.0])|\n",
      "|15-11-2015|        0.99|    83453.76|1368.92| 73672.72| 93.26|   8318.86|   8196.81|    122.05|        0.0|conventional|2015|Albany|      0.0|        0.0|(1,[0],[1.0])|(53,[0],[1.0])|\n",
      "|08-11-2015|        0.98|   109428.33| 703.75|101815.36|  80.0|   6829.22|   6266.85|    562.37|        0.0|conventional|2015|Albany|      0.0|        0.0|(1,[0],[1.0])|(53,[0],[1.0])|\n",
      "|01-11-2015|        1.02|    99811.42|1022.15| 87315.57| 85.34|  11388.36|  11104.53|    283.83|        0.0|conventional|2015|Albany|      0.0|        0.0|(1,[0],[1.0])|(53,[0],[1.0])|\n",
      "|25-10-2015|        1.07|    74338.76|  842.4| 64757.44| 113.0|   8625.92|   8061.47|    564.45|        0.0|conventional|2015|Albany|      0.0|        0.0|(1,[0],[1.0])|(53,[0],[1.0])|\n",
      "|18-10-2015|        1.12|    84843.44| 924.86| 75595.85|117.07|   8205.66|   7877.86|     327.8|        0.0|conventional|2015|Albany|      0.0|        0.0|(1,[0],[1.0])|(53,[0],[1.0])|\n",
      "|11-10-2015|        1.28|    64489.17|1582.03| 52677.92|105.32|   10123.9|   9866.27|    257.63|        0.0|conventional|2015|Albany|      0.0|        0.0|(1,[0],[1.0])|(53,[0],[1.0])|\n",
      "|04-10-2015|        1.31|     61007.1|2268.32| 49880.67|101.36|   8756.75|   8379.98|    376.77|        0.0|conventional|2015|Albany|      0.0|        0.0|(1,[0],[1.0])|(53,[0],[1.0])|\n",
      "|27-09-2015|        0.99|   106803.39|1204.88| 99409.21|154.84|   6034.46|   5888.87|    145.59|        0.0|conventional|2015|Albany|      0.0|        0.0|(1,[0],[1.0])|(53,[0],[1.0])|\n",
      "|20-09-2015|        1.33|    69759.01|1028.03| 59313.12| 150.5|   9267.36|    8489.1|    778.26|        0.0|conventional|2015|Albany|      0.0|        0.0|(1,[0],[1.0])|(53,[0],[1.0])|\n",
      "|13-09-2015|        1.28|    76111.27| 985.73| 65696.86| 142.0|   9286.68|   8665.19|    621.49|        0.0|conventional|2015|Albany|      0.0|        0.0|(1,[0],[1.0])|(53,[0],[1.0])|\n",
      "|06-09-2015|        1.11|    99172.96| 879.45| 90062.62|240.79|    7990.1|   7762.87|    227.23|        0.0|conventional|2015|Albany|      0.0|        0.0|(1,[0],[1.0])|(53,[0],[1.0])|\n",
      "|30-08-2015|        1.07|   105693.84| 689.01| 94362.67|335.43|  10306.73|  10218.93|      87.8|        0.0|conventional|2015|Albany|      0.0|        0.0|(1,[0],[1.0])|(53,[0],[1.0])|\n",
      "|23-08-2015|        1.34|    79992.09| 733.16| 67933.79|444.78|  10880.36|  10745.79|    134.57|        0.0|conventional|2015|Albany|      0.0|        0.0|(1,[0],[1.0])|(53,[0],[1.0])|\n",
      "|16-08-2015|        1.33|    80043.78| 539.65| 68666.01| 394.9|  10443.22|  10297.68|    145.54|        0.0|conventional|2015|Albany|      0.0|        0.0|(1,[0],[1.0])|(53,[0],[1.0])|\n",
      "+----------+------------+------------+-------+---------+------+----------+----------+----------+-----------+------------+----+------+---------+-----------+-------------+--------------+\n",
      "only showing top 20 rows\n",
      "\n"
     ]
    }
   ],
   "source": [
    "df = pipeline.fit(df).transform(df)\n",
    "df.show()"
   ]
  },
  {
   "cell_type": "code",
   "execution_count": 36,
   "metadata": {},
   "outputs": [
    {
     "name": "stdout",
     "output_type": "stream",
     "text": [
      "+------------+------------+----------+---------+--------+----------+----+---------+-----------+-------------+---------------+\n",
      "|AveragePrice|Total Volume|      4046|     4225|    4770|Total Bags|year|typeIndex|regionIndex|     type_vec|     region_vec|\n",
      "+------------+------------+----------+---------+--------+----------+----+---------+-----------+-------------+---------------+\n",
      "|        0.44|    64057.04|    223.84|  4748.88|     0.0|  59084.32|2017|      1.0|        9.0|    (1,[],[])| (53,[9],[1.0])|\n",
      "|        0.48|    50890.73|    717.57|  4138.84|     0.0|  46034.32|2017|      1.0|       13.0|    (1,[],[])|(53,[13],[1.0])|\n",
      "|        0.49|    44024.03|    252.79|  4472.68|     0.0|  39298.56|2017|      1.0|        9.0|    (1,[],[])| (53,[9],[1.0])|\n",
      "|        0.51|    17135.45|    481.81|  1790.33|     0.0|  14863.31|2017|      1.0|       26.0|    (1,[],[])|(53,[26],[1.0])|\n",
      "|        0.51|    41987.86|    225.44|  5734.39|     0.0|  36028.03|2017|      1.0|        9.0|    (1,[],[])| (53,[9],[1.0])|\n",
      "|        0.51|  1366844.88|1097285.22|164460.99|  7534.3|  97564.37|2015|      0.0|       33.0|(1,[0],[1.0])|(53,[33],[1.0])|\n",
      "|        0.51|  1442973.47|1037699.01|259846.68| 14567.4| 130860.38|2016|      0.0|       33.0|(1,[0],[1.0])|(53,[33],[1.0])|\n",
      "|        0.52|    32113.68|    702.06|  3007.87|     0.0|  28403.75|2017|      1.0|       10.0|    (1,[],[])|(53,[10],[1.0])|\n",
      "|        0.52|  1457359.83|1130917.54|199669.94| 4499.84| 122272.51|2015|      0.0|       33.0|(1,[0],[1.0])|(53,[33],[1.0])|\n",
      "|        0.52|  1637554.42|1067388.68|127511.86|18640.48|  424013.4|2017|      0.0|       53.0|(1,[0],[1.0])|     (53,[],[])|\n",
      "|        0.53|  1097224.25| 785254.94| 204147.3|10346.68|  97475.33|2015|      0.0|       33.0|(1,[0],[1.0])|(53,[33],[1.0])|\n",
      "|        0.53|  1353850.06|1046887.77|180388.89| 4263.45| 122309.95|2015|      0.0|       33.0|(1,[0],[1.0])|(53,[33],[1.0])|\n",
      "|        0.53|  1547337.25| 1067091.8|116819.32|42393.74| 321032.39|2017|      0.0|       18.0|(1,[0],[1.0])|(53,[18],[1.0])|\n",
      "|        0.53|  1613159.67|1134750.48| 184545.5|  2711.5| 291152.19|2017|      0.0|       18.0|(1,[0],[1.0])|(53,[18],[1.0])|\n",
      "|        0.53|  5470227.08|1741607.02|937331.61|89678.63|2701609.82|2017|      0.0|       22.0|(1,[0],[1.0])|(53,[22],[1.0])|\n",
      "|        0.54|   369757.62| 191441.47| 57532.08|  594.02| 120190.05|2016|      0.0|       20.0|(1,[0],[1.0])|(53,[20],[1.0])|\n",
      "|        0.54|  1343180.92|1028045.58|188115.35| 4910.71| 122109.28|2015|      0.0|       33.0|(1,[0],[1.0])|(53,[33],[1.0])|\n",
      "|        0.54|  1352494.83| 884293.16|264603.74|14665.34| 188932.59|2016|      0.0|       33.0|(1,[0],[1.0])|(53,[33],[1.0])|\n",
      "|        0.54|  1423939.62| 952967.11|252486.02|35478.87| 183007.62|2016|      0.0|       33.0|(1,[0],[1.0])|(53,[33],[1.0])|\n",
      "|        0.54|  1601222.68| 909748.65|296612.15|15561.81| 379300.07|2017|      0.0|       33.0|(1,[0],[1.0])|(53,[33],[1.0])|\n",
      "+------------+------------+----------+---------+--------+----------+----+---------+-----------+-------------+---------------+\n",
      "only showing top 20 rows\n",
      "\n"
     ]
    }
   ],
   "source": [
    "from pyspark.ml.feature import VectorAssembler\n",
    "df = df.drop('Date','Small Bags','Large Bags','XLarge Bags','type','region')\n",
    "(trainingData, testData) = df.randomSplit([0.7, 0.3], seed=200)\n",
    "trainingData.show()"
   ]
  },
  {
   "cell_type": "code",
   "execution_count": 37,
   "metadata": {},
   "outputs": [],
   "source": [
    "assembler =  VectorAssembler().setInputCols(['Total Volume','4046','4225','4770','Total Bags','year','typeIndex','regionIndex', 'type_vec', 'region_vec']).setOutputCol('features')\n",
    "#assembler.fit(df)\n",
    "train_1 = assembler.transform(trainingData)\n",
    "train_2 = train_1.select('features','AveragePrice')\n",
    "test_1 = assembler.transform(testData)\n",
    "test_2 = train_1.select('features','AveragePrice')"
   ]
  },
  {
   "cell_type": "code",
   "execution_count": 38,
   "metadata": {},
   "outputs": [
    {
     "name": "stdout",
     "output_type": "stream",
     "text": [
      "+------------+------------+----------+---------+--------+----------+----+---------+-----------+-------------+---------------+--------------------+\n",
      "|AveragePrice|Total Volume|      4046|     4225|    4770|Total Bags|year|typeIndex|regionIndex|     type_vec|     region_vec|            features|\n",
      "+------------+------------+----------+---------+--------+----------+----+---------+-----------+-------------+---------------+--------------------+\n",
      "|        0.44|    64057.04|    223.84|  4748.88|     0.0|  59084.32|2017|      1.0|        9.0|    (1,[],[])| (53,[9],[1.0])|(62,[0,1,2,4,5,6,...|\n",
      "|        0.48|    50890.73|    717.57|  4138.84|     0.0|  46034.32|2017|      1.0|       13.0|    (1,[],[])|(53,[13],[1.0])|(62,[0,1,2,4,5,6,...|\n",
      "|        0.49|    44024.03|    252.79|  4472.68|     0.0|  39298.56|2017|      1.0|        9.0|    (1,[],[])| (53,[9],[1.0])|(62,[0,1,2,4,5,6,...|\n",
      "|        0.51|    17135.45|    481.81|  1790.33|     0.0|  14863.31|2017|      1.0|       26.0|    (1,[],[])|(53,[26],[1.0])|(62,[0,1,2,4,5,6,...|\n",
      "|        0.51|    41987.86|    225.44|  5734.39|     0.0|  36028.03|2017|      1.0|        9.0|    (1,[],[])| (53,[9],[1.0])|(62,[0,1,2,4,5,6,...|\n",
      "|        0.51|  1366844.88|1097285.22|164460.99|  7534.3|  97564.37|2015|      0.0|       33.0|(1,[0],[1.0])|(53,[33],[1.0])|(62,[0,1,2,3,4,5,...|\n",
      "|        0.51|  1442973.47|1037699.01|259846.68| 14567.4| 130860.38|2016|      0.0|       33.0|(1,[0],[1.0])|(53,[33],[1.0])|(62,[0,1,2,3,4,5,...|\n",
      "|        0.52|    32113.68|    702.06|  3007.87|     0.0|  28403.75|2017|      1.0|       10.0|    (1,[],[])|(53,[10],[1.0])|(62,[0,1,2,4,5,6,...|\n",
      "|        0.52|  1457359.83|1130917.54|199669.94| 4499.84| 122272.51|2015|      0.0|       33.0|(1,[0],[1.0])|(53,[33],[1.0])|(62,[0,1,2,3,4,5,...|\n",
      "|        0.52|  1637554.42|1067388.68|127511.86|18640.48|  424013.4|2017|      0.0|       53.0|(1,[0],[1.0])|     (53,[],[])|(62,[0,1,2,3,4,5,...|\n",
      "|        0.53|  1097224.25| 785254.94| 204147.3|10346.68|  97475.33|2015|      0.0|       33.0|(1,[0],[1.0])|(53,[33],[1.0])|(62,[0,1,2,3,4,5,...|\n",
      "|        0.53|  1353850.06|1046887.77|180388.89| 4263.45| 122309.95|2015|      0.0|       33.0|(1,[0],[1.0])|(53,[33],[1.0])|(62,[0,1,2,3,4,5,...|\n",
      "|        0.53|  1547337.25| 1067091.8|116819.32|42393.74| 321032.39|2017|      0.0|       18.0|(1,[0],[1.0])|(53,[18],[1.0])|(62,[0,1,2,3,4,5,...|\n",
      "|        0.53|  1613159.67|1134750.48| 184545.5|  2711.5| 291152.19|2017|      0.0|       18.0|(1,[0],[1.0])|(53,[18],[1.0])|(62,[0,1,2,3,4,5,...|\n",
      "|        0.53|  5470227.08|1741607.02|937331.61|89678.63|2701609.82|2017|      0.0|       22.0|(1,[0],[1.0])|(53,[22],[1.0])|(62,[0,1,2,3,4,5,...|\n",
      "|        0.54|   369757.62| 191441.47| 57532.08|  594.02| 120190.05|2016|      0.0|       20.0|(1,[0],[1.0])|(53,[20],[1.0])|(62,[0,1,2,3,4,5,...|\n",
      "|        0.54|  1343180.92|1028045.58|188115.35| 4910.71| 122109.28|2015|      0.0|       33.0|(1,[0],[1.0])|(53,[33],[1.0])|(62,[0,1,2,3,4,5,...|\n",
      "|        0.54|  1352494.83| 884293.16|264603.74|14665.34| 188932.59|2016|      0.0|       33.0|(1,[0],[1.0])|(53,[33],[1.0])|(62,[0,1,2,3,4,5,...|\n",
      "|        0.54|  1423939.62| 952967.11|252486.02|35478.87| 183007.62|2016|      0.0|       33.0|(1,[0],[1.0])|(53,[33],[1.0])|(62,[0,1,2,3,4,5,...|\n",
      "|        0.54|  1601222.68| 909748.65|296612.15|15561.81| 379300.07|2017|      0.0|       33.0|(1,[0],[1.0])|(53,[33],[1.0])|(62,[0,1,2,3,4,5,...|\n",
      "+------------+------------+----------+---------+--------+----------+----+---------+-----------+-------------+---------------+--------------------+\n",
      "only showing top 20 rows\n",
      "\n"
     ]
    }
   ],
   "source": [
    "train_1.show()"
   ]
  },
  {
   "cell_type": "code",
   "execution_count": 39,
   "metadata": {},
   "outputs": [],
   "source": [
    "from pyspark.ml.tuning import ParamGridBuilder, CrossValidator\n",
    "from pyspark.ml.regression import DecisionTreeRegressor, RandomForestRegressor\n",
    "\n",
    "# Create initial DecisionTreeRegression model\n",
    "lr1 = DecisionTreeRegressor(labelCol=\"AveragePrice\", featuresCol=\"features\",maxBins=54)"
   ]
  },
  {
   "cell_type": "code",
   "execution_count": 40,
   "metadata": {},
   "outputs": [
    {
     "name": "stdout",
     "output_type": "stream",
     "text": [
      "+---------------------------------------------------------------------------------------------------+------------+------------------+\n",
      "|features                                                                                           |AveragePrice|prediction        |\n",
      "+---------------------------------------------------------------------------------------------------+------------+------------------+\n",
      "|(62,[0,1,2,4,5,6,7,18],[64057.04,223.84,4748.88,59084.32,2017.0,1.0,9.0,1.0])                      |0.44        |1.4194977168949776|\n",
      "|(62,[0,1,2,4,5,6,7,22],[50890.73,717.57,4138.84,46034.32,2017.0,1.0,13.0,1.0])                     |0.48        |1.4194977168949776|\n",
      "|(62,[0,1,2,4,5,6,7,18],[44024.03,252.79,4472.68,39298.56,2017.0,1.0,9.0,1.0])                      |0.49        |1.4194977168949776|\n",
      "|(62,[0,1,2,4,5,6,7,35],[17135.45,481.81,1790.33,14863.31,2017.0,1.0,26.0,1.0])                     |0.51        |1.4194977168949776|\n",
      "|(62,[0,1,2,4,5,6,7,18],[41987.86,225.44,5734.39,36028.03,2017.0,1.0,9.0,1.0])                      |0.51        |1.4194977168949776|\n",
      "|(62,[0,1,2,3,4,5,7,8,42],[1366844.88,1097285.22,164460.99,7534.3,97564.37,2015.0,33.0,1.0,1.0])    |0.51        |0.7086206896551726|\n",
      "|(62,[0,1,2,3,4,5,7,8,42],[1442973.47,1037699.01,259846.68,14567.4,130860.38,2016.0,33.0,1.0,1.0])  |0.51        |0.7086206896551726|\n",
      "|(62,[0,1,2,4,5,6,7,19],[32113.68,702.06,3007.87,28403.75,2017.0,1.0,10.0,1.0])                     |0.52        |1.4194977168949776|\n",
      "|(62,[0,1,2,3,4,5,7,8,42],[1457359.83,1130917.54,199669.94,4499.84,122272.51,2015.0,33.0,1.0,1.0])  |0.52        |0.7086206896551726|\n",
      "|(62,[0,1,2,3,4,5,7,8],[1637554.42,1067388.68,127511.86,18640.48,424013.4,2017.0,53.0,1.0])         |0.52        |0.8354117647058833|\n",
      "|(62,[0,1,2,3,4,5,7,8,42],[1097224.25,785254.94,204147.3,10346.68,97475.33,2015.0,33.0,1.0,1.0])    |0.53        |0.7086206896551726|\n",
      "|(62,[0,1,2,3,4,5,7,8,42],[1353850.06,1046887.77,180388.89,4263.45,122309.95,2015.0,33.0,1.0,1.0])  |0.53        |0.7086206896551726|\n",
      "|(62,[0,1,2,3,4,5,7,8,27],[1547337.25,1067091.8,116819.32,42393.74,321032.39,2017.0,18.0,1.0,1.0])  |0.53        |0.8354117647058833|\n",
      "|(62,[0,1,2,3,4,5,7,8,27],[1613159.67,1134750.48,184545.5,2711.5,291152.19,2017.0,18.0,1.0,1.0])    |0.53        |1.129             |\n",
      "|(62,[0,1,2,3,4,5,7,8,31],[5470227.08,1741607.02,937331.61,89678.63,2701609.82,2017.0,22.0,1.0,1.0])|0.53        |1.161370808678501 |\n",
      "|(62,[0,1,2,3,4,5,7,8,29],[369757.62,191441.47,57532.08,594.02,120190.05,2016.0,20.0,1.0,1.0])      |0.54        |1.1291189427312776|\n",
      "|(62,[0,1,2,3,4,5,7,8,42],[1343180.92,1028045.58,188115.35,4910.71,122109.28,2015.0,33.0,1.0,1.0])  |0.54        |0.7086206896551726|\n",
      "|(62,[0,1,2,3,4,5,7,8,42],[1352494.83,884293.16,264603.74,14665.34,188932.59,2016.0,33.0,1.0,1.0])  |0.54        |0.7086206896551726|\n",
      "|(62,[0,1,2,3,4,5,7,8,42],[1423939.62,952967.11,252486.02,35478.87,183007.62,2016.0,33.0,1.0,1.0])  |0.54        |0.7086206896551726|\n",
      "|(62,[0,1,2,3,4,5,7,8,42],[1601222.68,909748.65,296612.15,15561.81,379300.07,2017.0,33.0,1.0,1.0])  |0.54        |0.7086206896551726|\n",
      "+---------------------------------------------------------------------------------------------------+------------+------------------+\n",
      "only showing top 20 rows\n",
      "\n"
     ]
    }
   ],
   "source": [
    "# Train DecisionTreeRegressor  model with Training Data\n",
    "lrModel = lr1.fit(train_2)\n",
    "\n",
    "# Make predictions on test data using the Transformer.transform() method.\n",
    "predictions = lrModel.transform(test_2)\n",
    "predictions.show(truncate = False)"
   ]
  },
  {
   "cell_type": "code",
   "execution_count": 41,
   "metadata": {},
   "outputs": [
    {
     "name": "stdout",
     "output_type": "stream",
     "text": [
      "R Squared (R2) on test data for DecisionTreeRegressor = 0.646443\n"
     ]
    }
   ],
   "source": [
    "from pyspark.ml.evaluation import RegressionEvaluator\n",
    "lr_evaluator = RegressionEvaluator(predictionCol=\"prediction\", \\\n",
    "                 labelCol=\"AveragePrice\",metricName=\"r2\")\n",
    "print(\"R Squared (R2) on test data for DecisionTreeRegressor = %g\" % lr_evaluator.evaluate(predictions))"
   ]
  },
  {
   "cell_type": "code",
   "execution_count": 42,
   "metadata": {},
   "outputs": [],
   "source": [
    "# Create initial RandomForestRegressor model\n",
    "lr2 = RandomForestRegressor(labelCol=\"AveragePrice\", featuresCol=\"features\",maxBins=54)"
   ]
  },
  {
   "cell_type": "code",
   "execution_count": 46,
   "metadata": {},
   "outputs": [
    {
     "name": "stdout",
     "output_type": "stream",
     "text": [
      "+---------------------------------------------------------------------------------------------------+------------+------------------+\n",
      "|features                                                                                           |AveragePrice|prediction        |\n",
      "+---------------------------------------------------------------------------------------------------+------------+------------------+\n",
      "|(62,[0,1,2,4,5,6,7,18],[64057.04,223.84,4748.88,59084.32,2017.0,1.0,9.0,1.0])                      |0.44        |1.423363155308048 |\n",
      "|(62,[0,1,2,4,5,6,7,22],[50890.73,717.57,4138.84,46034.32,2017.0,1.0,13.0,1.0])                     |0.48        |1.4300484324522889|\n",
      "|(62,[0,1,2,4,5,6,7,18],[44024.03,252.79,4472.68,39298.56,2017.0,1.0,9.0,1.0])                      |0.49        |1.440401343334003 |\n",
      "|(62,[0,1,2,4,5,6,7,35],[17135.45,481.81,1790.33,14863.31,2017.0,1.0,26.0,1.0])                     |0.51        |1.4653116271238233|\n",
      "|(62,[0,1,2,4,5,6,7,18],[41987.86,225.44,5734.39,36028.03,2017.0,1.0,9.0,1.0])                      |0.51        |1.440401343334003 |\n",
      "|(62,[0,1,2,3,4,5,7,8,42],[1366844.88,1097285.22,164460.99,7534.3,97564.37,2015.0,33.0,1.0,1.0])    |0.51        |0.7801128874547605|\n",
      "|(62,[0,1,2,3,4,5,7,8,42],[1442973.47,1037699.01,259846.68,14567.4,130860.38,2016.0,33.0,1.0,1.0])  |0.51        |0.7853193114888095|\n",
      "|(62,[0,1,2,4,5,6,7,19],[32113.68,702.06,3007.87,28403.75,2017.0,1.0,10.0,1.0])                     |0.52        |1.4429594037608509|\n",
      "|(62,[0,1,2,3,4,5,7,8,42],[1457359.83,1130917.54,199669.94,4499.84,122272.51,2015.0,33.0,1.0,1.0])  |0.52        |0.7845501817945018|\n",
      "|(62,[0,1,2,3,4,5,7,8],[1637554.42,1067388.68,127511.86,18640.48,424013.4,2017.0,53.0,1.0])         |0.52        |0.9325515546748715|\n",
      "|(62,[0,1,2,3,4,5,7,8,42],[1097224.25,785254.94,204147.3,10346.68,97475.33,2015.0,33.0,1.0,1.0])    |0.53        |0.7877699687477446|\n",
      "|(62,[0,1,2,3,4,5,7,8,42],[1353850.06,1046887.77,180388.89,4263.45,122309.95,2015.0,33.0,1.0,1.0])  |0.53        |0.7822609165934717|\n",
      "|(62,[0,1,2,3,4,5,7,8,27],[1547337.25,1067091.8,116819.32,42393.74,321032.39,2017.0,18.0,1.0,1.0])  |0.53        |0.8962404479595302|\n",
      "|(62,[0,1,2,3,4,5,7,8,27],[1613159.67,1134750.48,184545.5,2711.5,291152.19,2017.0,18.0,1.0,1.0])    |0.53        |0.9892051298015268|\n",
      "|(62,[0,1,2,3,4,5,7,8,31],[5470227.08,1741607.02,937331.61,89678.63,2701609.82,2017.0,22.0,1.0,1.0])|0.53        |1.0533001730666058|\n",
      "|(62,[0,1,2,3,4,5,7,8,29],[369757.62,191441.47,57532.08,594.02,120190.05,2016.0,20.0,1.0,1.0])      |0.54        |1.1656733984514231|\n",
      "|(62,[0,1,2,3,4,5,7,8,42],[1343180.92,1028045.58,188115.35,4910.71,122109.28,2015.0,33.0,1.0,1.0])  |0.54        |0.7824021526557906|\n",
      "|(62,[0,1,2,3,4,5,7,8,42],[1352494.83,884293.16,264603.74,14665.34,188932.59,2016.0,33.0,1.0,1.0])  |0.54        |0.7923842946537927|\n",
      "|(62,[0,1,2,3,4,5,7,8,42],[1423939.62,952967.11,252486.02,35478.87,183007.62,2016.0,33.0,1.0,1.0])  |0.54        |0.7869524764719744|\n",
      "|(62,[0,1,2,3,4,5,7,8,42],[1601222.68,909748.65,296612.15,15561.81,379300.07,2017.0,33.0,1.0,1.0])  |0.54        |0.8656140471625717|\n",
      "+---------------------------------------------------------------------------------------------------+------------+------------------+\n",
      "only showing top 20 rows\n",
      "\n"
     ]
    }
   ],
   "source": [
    "# Train RandomForestRegressor model with Training Data\n",
    "lrModel2 = lr2.fit(train_2)\n",
    "\n",
    "# Make predictions on test data using the Transformer.transform() method.\n",
    "predictions2 = lrModel2.transform(test_2)\n",
    "predictions2.show(truncate = False)"
   ]
  },
  {
   "cell_type": "code",
   "execution_count": 47,
   "metadata": {},
   "outputs": [
    {
     "name": "stdout",
     "output_type": "stream",
     "text": [
      "R Squared (R2) on test data for RandomForestRegressor = 0.639192\n"
     ]
    }
   ],
   "source": [
    "lr_evaluator2 = RegressionEvaluator(predictionCol=\"prediction\", \\\n",
    "                 labelCol=\"AveragePrice\",metricName=\"r2\")\n",
    "print(\"R Squared (R2) on test data for RandomForestRegressor = %g\" % lr_evaluator2.evaluate(predictions2))"
   ]
  },
  {
   "cell_type": "code",
   "execution_count": 50,
   "metadata": {},
   "outputs": [
    {
     "ename": "AttributeError",
     "evalue": "'RandomForestRegressionModel' object has no attribute 'interpret'",
     "output_type": "error",
     "traceback": [
      "\u001b[1;31m---------------------------------------------------------------------------\u001b[0m",
      "\u001b[1;31mAttributeError\u001b[0m                            Traceback (most recent call last)",
      "\u001b[1;32m<ipython-input-50-108aeb716c82>\u001b[0m in \u001b[0;36m<module>\u001b[1;34m\u001b[0m\n\u001b[1;32m----> 1\u001b[1;33m \u001b[0mprint\u001b[0m\u001b[1;33m(\u001b[0m\u001b[0mlrModel2\u001b[0m\u001b[1;33m.\u001b[0m\u001b[0minterpret\u001b[0m\u001b[1;33m)\u001b[0m\u001b[1;33m\u001b[0m\u001b[1;33m\u001b[0m\u001b[0m\n\u001b[0m",
      "\u001b[1;31mAttributeError\u001b[0m: 'RandomForestRegressionModel' object has no attribute 'interpret'"
     ]
    }
   ],
   "source": []
  },
  {
   "cell_type": "code",
   "execution_count": null,
   "metadata": {},
   "outputs": [],
   "source": []
  }
 ],
 "metadata": {
  "kernelspec": {
   "display_name": "Python 3",
   "language": "python",
   "name": "python3"
  },
  "language_info": {
   "codemirror_mode": {
    "name": "ipython",
    "version": 3
   },
   "file_extension": ".py",
   "mimetype": "text/x-python",
   "name": "python",
   "nbconvert_exporter": "python",
   "pygments_lexer": "ipython3",
   "version": "3.8.5"
  }
 },
 "nbformat": 4,
 "nbformat_minor": 4
}
